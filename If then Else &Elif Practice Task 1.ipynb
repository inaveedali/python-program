{
 "cells": [
  {
   "cell_type": "raw",
   "metadata": {
    "id": "8rksu2_jMVjQ"
   },
   "source": [
    "1) A company decided to give bonus of 5% to employee if his/her year of service is more than 5 years.\n",
    "Ask user for their salary and year of service and print the net bonus amount."
   ]
  },
  {
   "cell_type": "code",
   "execution_count": 1,
   "metadata": {
    "id": "_GRPHPiLMVjX"
   },
   "outputs": [
    {
     "name": "stdout",
     "output_type": "stream",
     "text": [
      "please enter your salary20000\n",
      "How Many Years Do you have in the company10\n",
      "21000.0\n"
     ]
    }
   ],
   "source": [
    "\n",
    "bonus= None\n",
    "Salary=int(input(\"please enter your salary\"))\n",
    "year=int(input(\"How Many Years Do you have in the company\"))\n",
    "\n",
    "a=Salary/100*5\n",
    "\n",
    "if (year>=5):\n",
    "    bonus=(Salary+a)\n",
    "elif (year>=4):\n",
    "    bonus=(\"Soory you have 1 year left for 5%\")\n",
    "elif (year>=3):\n",
    "    bonus=(\"Soory you have 2 year left for 5%\")\n",
    "elif (year>=2):\n",
    "    bonus=(\"Soory you have 3 year left for 5%\")\n",
    "else:\n",
    "    bonus=(\"Soory you have 4 year left for 5%\")\n",
    "print(bonus)"
   ]
  },
  {
   "cell_type": "code",
   "execution_count": 2,
   "metadata": {
    "id": "3kDSFTKdMcqZ"
   },
   "outputs": [
    {
     "name": "stdout",
     "output_type": "stream",
     "text": [
      "please enter your salary30000\n",
      "How Many Years Do you have in the company3\n",
      "Soory you have 2 year left for 5%\n"
     ]
    }
   ],
   "source": [
    "bonus= None\n",
    "Salary=int(input(\"please enter your salary\"))\n",
    "year=int(input(\"How Many Years Do you have in the company\"))\n",
    "\n",
    "a=Salary/100*5\n",
    "\n",
    "if (year>=5):\n",
    "    bonus=(Salary+a)\n",
    "elif (year>=4):\n",
    "    bonus=(\"Soory you have 1 year left for 5%\")\n",
    "elif (year>=3):\n",
    "    bonus=(\"Soory you have 2 year left for 5%\")\n",
    "elif (year>=2):\n",
    "    bonus=(\"Soory you have 3 year left for 5%\")\n",
    "else:\n",
    "    bonus=(\"Soory you have 4 year left for 5%\")\n",
    "print(bonus)"
   ]
  },
  {
   "cell_type": "markdown",
   "metadata": {
    "id": "iXt5RVcjMVja"
   },
   "source": [
    "\n",
    "2) Write a program to check whether a person is eligible for voting or not. (accept age from user)"
   ]
  },
  {
   "cell_type": "code",
   "execution_count": 4,
   "metadata": {
    "id": "jXVCvia3MVjh"
   },
   "outputs": [
    {
     "name": "stdout",
     "output_type": "stream",
     "text": [
      "Please Enter Your Age To Find That Are YOu Eligible For Vote19\n",
      "Soory You Are Under 20\n"
     ]
    }
   ],
   "source": [
    "age= None\n",
    "voting_age=int(input(\"Please Enter Your Age To Find That Are YOu Eligible For Vote\"))\n",
    "if (voting_age>=20):\n",
    "    age=(\"You Are Eligible For Voting\")\n",
    "else:\n",
    "    age=(\"Soory You Are Under 20\")\n",
    "print(age)"
   ]
  },
  {
   "cell_type": "code",
   "execution_count": 11,
   "metadata": {},
   "outputs": [
    {
     "name": "stdout",
     "output_type": "stream",
     "text": [
      "Please Enter Your Age To Find That Are YOu Eligible For Vote19\n",
      "Soory You Are Under 20\n"
     ]
    }
   ],
   "source": [
    "age= None\n",
    "voting_age=int(input(\"Please Enter Your Age To Find That Are YOu Eligible For Vote\"))\n",
    "if (voting_age>=20):\n",
    "    age=(\"You Are Eligible For Voting\")\n",
    "else:\n",
    "    age=(\"Soory You Are Under 20\")\n",
    "print(age)"
   ]
  },
  {
   "cell_type": "markdown",
   "metadata": {
    "id": "IkNM7QpCMVjj"
   },
   "source": [
    "\n",
    "3) Write a program to check whether a number entered by user is even or odd."
   ]
  },
  {
   "cell_type": "code",
   "execution_count": 4,
   "metadata": {},
   "outputs": [
    {
     "name": "stdout",
     "output_type": "stream",
     "text": [
      "Write The Value To Find Even & Odd4\n",
      "The Number You Write Is Even Number\n",
      "4\n"
     ]
    }
   ],
   "source": [
    "num=int(input(\"Write The Value To Find Even & Odd\"))\n",
    "b=num%2\n",
    "if (b == 0):\n",
    "    print(\"The Number You Write Is Even Number\")\n",
    "else:\n",
    "    print(\"The Number You Write Is odd Number\")\n",
    "print(num)"
   ]
  },
  {
   "cell_type": "code",
   "execution_count": 5,
   "metadata": {
    "id": "-GxviwByMVjl"
   },
   "outputs": [
    {
     "name": "stdout",
     "output_type": "stream",
     "text": [
      "Write The Value To Find Even & Odd3\n",
      "The Number You Write Is odd Number\n",
      "3\n"
     ]
    }
   ],
   "source": [
    "num=int(input(\"Write The Value To Find Even & Odd\"))\n",
    "b=num%2\n",
    "if (b == 0):\n",
    "    print(\"The Number You Write Is Even Number\")\n",
    "else:\n",
    "    print(\"The Number You Write Is odd Number\")\n",
    "print(num)"
   ]
  },
  {
   "cell_type": "markdown",
   "metadata": {
    "id": "_jEHjkfdMVjm"
   },
   "source": [
    "4) Write a program to check whether a number is divisible by 7 or not.\n",
    "Show Answer"
   ]
  },
  {
   "cell_type": "code",
   "execution_count": 8,
   "metadata": {
    "id": "IRNXyG1GMVjo"
   },
   "outputs": [
    {
     "name": "stdout",
     "output_type": "stream",
     "text": [
      "Enter The Value To find That Is Divided By 749\n",
      "The Number You Write Is Divided By 7\n",
      "0\n"
     ]
    }
   ],
   "source": [
    "#Type your code here\n",
    "num1=int(input(\"Enter The Value To find That Is Divided By 7\"))\n",
    "num2=num1%7\n",
    "if (num2 == 0):\n",
    "    print(\"The Number You Write Is Divided By 7\")\n",
    "else:\n",
    "    print(\"The Number You Write Is Not Divided By 7\")\n",
    "print(num2)"
   ]
  },
  {
   "cell_type": "code",
   "execution_count": 11,
   "metadata": {},
   "outputs": [
    {
     "name": "stdout",
     "output_type": "stream",
     "text": [
      "Enter The Value To find That Is Divided By 763\n",
      "The Number You Write Is Divided By 7\n"
     ]
    }
   ],
   "source": [
    "num1=int(input(\"Enter The Value To find That Is Divided By 7\"))\n",
    "num2=num1%7\n",
    "if (num2 == 0):\n",
    "    print(\"The Number You Write Is Divided By 7\")\n",
    "else:\n",
    "    print(\"The Number You Write Is Not Divided By 7\")\n",
    "#print(num2)"
   ]
  },
  {
   "cell_type": "raw",
   "metadata": {
    "id": "XxfyVe4kMVjp"
   },
   "source": [
    "5) Write a program to display \n",
    "\"Hello\" if a number entered by user is a multiple of five , otherwise print \"Bye\"."
   ]
  },
  {
   "cell_type": "code",
   "execution_count": null,
   "metadata": {
    "id": "Ixnz4R4TMVjr"
   },
   "outputs": [],
   "source": [
    "#Type your code here"
   ]
  },
  {
   "cell_type": "raw",
   "metadata": {
    "id": "qfzRUUwOMVjs"
   },
   "source": [
    "6) Write a program to calculate the electricity bill (accept number of unit from user) according to the following criteria :\n",
    "     Unit                                                     Price  \n",
    "uptp 100 units                                             no charge\n",
    "Next 200 units                                              Rs 5 per unit\n",
    "After 200 units                                             Rs 10 per unit\n",
    "(For example if input unit is 350 than total bill amount is Rs.3500\n",
    "(For example if input unit is 97 than total bill amount is Rs.0\n",
    "(For example if input unit is 150 than total bill amount is Rs.750"
   ]
  },
  {
   "cell_type": "code",
   "execution_count": null,
   "metadata": {
    "id": "1BY1oAIpMVju"
   },
   "outputs": [],
   "source": [
    "#Type your code here"
   ]
  },
  {
   "cell_type": "raw",
   "metadata": {
    "id": "msAIDMRDMVjv"
   },
   "source": [
    "7) Write a program to display the last digit of a number.\n"
   ]
  },
  {
   "cell_type": "code",
   "execution_count": null,
   "metadata": {
    "id": "VQwLuGzbMVjv"
   },
   "outputs": [],
   "source": [
    "#Type your code here"
   ]
  },
  {
   "cell_type": "raw",
   "metadata": {
    "id": "UeLHzVZ_MVjw"
   },
   "source": [
    "\n",
    "Q8. Write a program to check whether the last digit of a number( entered by user ) is \n",
    "divisible by 3 or not."
   ]
  },
  {
   "cell_type": "code",
   "execution_count": null,
   "metadata": {
    "id": "KiQ5wnc6MVjx"
   },
   "outputs": [],
   "source": [
    "#Type your code here"
   ]
  },
  {
   "cell_type": "raw",
   "metadata": {
    "id": "CR4sMmRgMVjy"
   },
   "source": [
    "9) Take values of length and breadth of a rectangle from user and check if it is square or not."
   ]
  },
  {
   "cell_type": "code",
   "execution_count": null,
   "metadata": {
    "id": "Oj1MT5fCMVjy"
   },
   "outputs": [],
   "source": [
    "#Type your code here "
   ]
  },
  {
   "cell_type": "raw",
   "metadata": {
    "id": "B2e5VYbiMVjz"
   },
   "source": [
    "10) Take two int values from user and print greatest among them."
   ]
  },
  {
   "cell_type": "code",
   "execution_count": null,
   "metadata": {
    "id": "LyYYL78HMVj0"
   },
   "outputs": [],
   "source": [
    "# Type your code here"
   ]
  },
  {
   "cell_type": "raw",
   "metadata": {
    "id": "R9gMEjdQMVj1"
   },
   "source": [
    "11) A shop will give discount of 10% if the cost of purchased quantity is more than 1000.\n",
    "Ask user for quantity\n",
    "Suppose, one unit will cost 100.\n",
    "Judge and print total cost for user."
   ]
  },
  {
   "cell_type": "code",
   "execution_count": null,
   "metadata": {
    "id": "hjvEnOzxMVj2"
   },
   "outputs": [],
   "source": [
    "#Type your code here"
   ]
  },
  {
   "cell_type": "raw",
   "metadata": {
    "id": "yqYL7FZeMVj3"
   },
   "source": [
    "12) A school has following rules for grading system:\n",
    "\n",
    "a. Below 25 - F\n",
    "\n",
    "b. 25 to 45 - E\n",
    "\n",
    "c. 45 to 50 - D\n",
    "\n",
    "d. 50 to 60 - C\n",
    "\n",
    "e. 60 to 80 - B\n",
    "\n",
    "f. Above 80 - A\n",
    "\n",
    "Ask user to enter marks and print the corresponding grade."
   ]
  },
  {
   "cell_type": "code",
   "execution_count": null,
   "metadata": {
    "id": "he_r-bpOMVj4"
   },
   "outputs": [],
   "source": [
    "#Type your code here"
   ]
  },
  {
   "cell_type": "raw",
   "metadata": {
    "id": "IUJjt9NbMVj4"
   },
   "source": [
    "13) Take input of age of 3 people by user and determine oldest and youngest among them."
   ]
  },
  {
   "cell_type": "code",
   "execution_count": null,
   "metadata": {
    "id": "vlre5Ck0MVj4"
   },
   "outputs": [],
   "source": [
    "#Type your code here"
   ]
  },
  {
   "cell_type": "raw",
   "metadata": {
    "id": "Zc9ovDhsMVj5"
   },
   "source": [
    "14)A student will not be allowed to sit in exam if his/her attendence is less than 75%.\n",
    "\n",
    "Take following input from user\n",
    "\n",
    "Number of classes held\n",
    "\n",
    "Number of classes attended.\n",
    "\n",
    "And print\n",
    "\n",
    "percentage of class attended\n",
    "\n",
    "Is student is allowed to sit in exam or not.\n"
   ]
  },
  {
   "cell_type": "code",
   "execution_count": null,
   "metadata": {
    "id": "rseYum2_MVj6"
   },
   "outputs": [],
   "source": [
    "#Type your code here"
   ]
  },
  {
   "cell_type": "raw",
   "metadata": {
    "id": "58UPPHAOMVj6"
   },
   "source": [
    "15) Modify the above question to allow student to sit if he/she has medical cause. Ask user if he/she has medical cause or not ( 'Y' or 'N' ) and print accordingly."
   ]
  },
  {
   "cell_type": "code",
   "execution_count": null,
   "metadata": {
    "id": "lDi-xLzTMVj7"
   },
   "outputs": [],
   "source": [
    "#Type your code here"
   ]
  },
  {
   "cell_type": "raw",
   "metadata": {
    "id": "kJtSy1EoMVj7"
   },
   "source": [
    "16) Write a program to check if a year is leap year or not.\n",
    "\n",
    "If a year is divisible by 4 then it is leap year but if the year is century year like 2000, 1900, 2100 then it must be divisible by 400."
   ]
  },
  {
   "cell_type": "code",
   "execution_count": null,
   "metadata": {
    "id": "QUL_YUX3MVj7"
   },
   "outputs": [],
   "source": [
    "#Type your code here"
   ]
  },
  {
   "cell_type": "raw",
   "metadata": {
    "id": "CCNg4yDDMVj8"
   },
   "source": [
    "17) Ask user to enter age, gender ( M or F ), marital status ( Y or N ) and then using following rules print their place of service.\n",
    "\n",
    "if employee is female, then she will work only in urban areas.\n",
    "\n",
    "if employee is a male and age is in between 20 to 40 then he may work in anywhere\n",
    "\n",
    "if employee is male and age is in between 40 t0 60 then he will work in urban areas only.\n",
    "\n",
    "And any other input of age should print \"ERROR\""
   ]
  },
  {
   "cell_type": "code",
   "execution_count": null,
   "metadata": {
    "id": "RDWMB0CZMVj8"
   },
   "outputs": [],
   "source": [
    "#Type your code here"
   ]
  },
  {
   "cell_type": "code",
   "execution_count": null,
   "metadata": {
    "id": "-TG-QI8TMVj9"
   },
   "outputs": [],
   "source": []
  }
 ],
 "metadata": {
  "colab": {
   "name": "If then Else &Elif Practice Task .ipynb",
   "provenance": []
  },
  "kernelspec": {
   "display_name": "Python 3 (ipykernel)",
   "language": "python",
   "name": "python3"
  },
  "language_info": {
   "codemirror_mode": {
    "name": "ipython",
    "version": 3
   },
   "file_extension": ".py",
   "mimetype": "text/x-python",
   "name": "python",
   "nbconvert_exporter": "python",
   "pygments_lexer": "ipython3",
   "version": "3.9.12"
  }
 },
 "nbformat": 4,
 "nbformat_minor": 1
}
