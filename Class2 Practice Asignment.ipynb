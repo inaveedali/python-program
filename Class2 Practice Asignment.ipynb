{
 "cells": [
  {
   "cell_type": "markdown",
   "id": "f6519aad",
   "metadata": {},
   "source": [
    "# User input"
   ]
  },
  {
   "cell_type": "raw",
   "id": "948191fe",
   "metadata": {},
   "source": [
    "1. Take a sentence input from user using input function. Count occurence of a particular character/word in the sentence and print the message that the character appear this many times in the sentence.\n",
    "Like if user inputs> \"My name is Sana. I am an undergraduate student. I am learning Artificial Intellegence in PIAIC\"\n",
    "Your output should be:\n",
    "    I appears 5 times in your sentence\n",
    "Hint: nahi batounga use string methods.\n",
    "Note: Sana is a boy. His full name is SanaUllah😄"
   ]
  },
  {
   "cell_type": "code",
   "execution_count": 1,
   "id": "a4679124",
   "metadata": {},
   "outputs": [
    {
     "name": "stdout",
     "output_type": "stream",
     "text": [
      "aiddhhebj hshdwu wdusw dhwduwdh ddfhwjh jewfhwf jhwhfkjq fwjhqjej ejkwe ewjk\n",
      "enter the character you want to count in the sentencej\n",
      "character j appear 10 times in the sentence\n"
     ]
    }
   ],
   "source": [
    "sentence = input()\n",
    "ch = input(\"enter the character you want to count in the sentence\")\n",
    "cnt=sentence.count(ch)\n",
    "print(\"character {} appear {} times in the sentence\".format(ch,cnt))"
   ]
  },
  {
   "cell_type": "raw",
   "id": "bf6c3672",
   "metadata": {},
   "source": [
    "2. Take a number input from user and print the square of that number. \n",
    "if a user inputs 10 Your output should be like:\n",
    "    The square of 10 is 100\n",
    "if a user inputs 5 Your output should be like:\n",
    "    The square of 5 is 25\n",
    "if a user inputs 2 Your output should be like:\n",
    "    The square of 2 is 4\n"
   ]
  },
  {
   "cell_type": "code",
   "execution_count": 6,
   "id": "7a6cd973",
   "metadata": {},
   "outputs": [
    {
     "name": "stdout",
     "output_type": "stream",
     "text": [
      "Please enter a number125\n",
      "The square of 125 is 15625\n"
     ]
    }
   ],
   "source": [
    "num = input(\"Please enter a number\")\n",
    "num = int(num)\n",
    "sqr = num**2\n",
    "print(\"The square of {} is {}\".format(num,sqr))"
   ]
  },
  {
   "cell_type": "raw",
   "id": "59a36294",
   "metadata": {},
   "source": [
    "3. Take two inputs from user using two input functions add these two numbers and print the result.\n",
    "For example if a user inputs 10 in first input, 20 in second input then your output mustbe like:\n",
    "    The sum of 10 and 20 is 30\n",
    "    \n",
    "For example if a user inputs 12 in first input, 30 in second input then your output mustbe like:\n",
    "    The sum of 12 and 30 is 42\n",
    "\n",
    "For example if a user inputs 100 in first input, 200 in second input then your out put mustbe like:\n",
    "    The sum of 100 and 200 is 300"
   ]
  },
  {
   "cell_type": "code",
   "execution_count": 1,
   "id": "c88e55e6",
   "metadata": {},
   "outputs": [
    {
     "name": "stdout",
     "output_type": "stream",
     "text": [
      "Please enter two numbers separated by ,1,3\n",
      "The sum of 1 and 3 is 4\n"
     ]
    }
   ],
   "source": [
    "num1,num2 = input(\"Please enter two numbers separated by ,\").split(',')\n",
    "num1 =int(num1)\n",
    "num2 =int(num2)\n",
    "add = num1 + num2\n",
    "print(\"The sum of {} and {} is {}\".format(num1,num2,add))"
   ]
  },
  {
   "cell_type": "markdown",
   "id": "33ea4146",
   "metadata": {},
   "source": [
    "## 4. Format a string to display a card like string:\n",
    "    \n",
    "            Presidential Initiative for AI & Computing\n",
    "                          ID CARD\n",
    "            Student Name   : Asad Ali\n",
    "            Father Name    : Amjad Ali\n",
    "            Date of Birth  : 01-01-2000\n",
    "            Course Enrolled: Artificial Intelligence\n",
    "            Batch          : 2022\n",
    "            Day            : Saturday \n",
    "            Centre         : Sir Syed University of Engg and Technology\n",
    "                \n",
    "Note: all the field values must be taken as user inputs and stored in variable"
   ]
  },
  {
   "cell_type": "code",
   "execution_count": 9,
   "id": "0f2d4d2d",
   "metadata": {},
   "outputs": [
    {
     "name": "stdout",
     "output_type": "stream",
     "text": [
      "Please enter your nameNaveed Ali\n",
      "Please enter your father nameMuhammad Ali\n",
      "Please enter your date of birth in format, dd/mm/yyy05/05/1992\n",
      "Please enter course nameArtificial Intellegence\n",
      "Please enter your batch2022\n",
      "Please enter your day of classsaturday\n",
      "Please enter your centreSSUET\n",
      "\n",
      "            Presidential Initiative for AI & Computing\n",
      "                           ID CARD\n",
      "            Student Name    : Naveed Ali\n",
      "            Father Name     : Muhammad Ali\n",
      "            Date of Birth   : 05-05-1992\n",
      "            Course Enrolled : Artificial Intellegence\n",
      "            Batch           : 2022 \n",
      "            Day             : saturday\n",
      "            Centre          : SSUET            \n",
      "            \n"
     ]
    }
   ],
   "source": [
    "name = input('Please enter your name')\n",
    "fname = input('Please enter your father name')\n",
    "dobdd,dobmm,dobyyyy = input('Please enter your date of birth in format, dd/mm/yyy').split('/')\n",
    "course = input('Please enter course name')\n",
    "batch = input('Please enter your batch')\n",
    "day = input('Please enter your day of class')\n",
    "centre = input('Please enter your centre')\n",
    "print(f\"\"\"\n",
    "            Presidential Initiative for AI & Computing\n",
    "                           ID CARD\n",
    "            Student Name    : {name}\n",
    "            Father Name     : {fname}\n",
    "            Date of Birth   : {dobdd}-{dobmm}-{dobyyyy}\n",
    "            Course Enrolled : {course}\n",
    "            Batch           : {batch} \n",
    "            Day             : {day}\n",
    "            Centre          : {centre}            \n",
    "            \"\"\")"
   ]
  }
 ],
 "metadata": {
  "kernelspec": {
   "display_name": "Python 3 (ipykernel)",
   "language": "python",
   "name": "python3"
  },
  "language_info": {
   "codemirror_mode": {
    "name": "ipython",
    "version": 3
   },
   "file_extension": ".py",
   "mimetype": "text/x-python",
   "name": "python",
   "nbconvert_exporter": "python",
   "pygments_lexer": "ipython3",
   "version": "3.9.12"
  }
 },
 "nbformat": 4,
 "nbformat_minor": 5
}
