{
 "cells": [
  {
   "cell_type": "markdown",
   "id": "b5ec9d3e",
   "metadata": {},
   "source": [
    "### Task1:\n",
    "You need to code a program that prints numbers from 1 to 20 except multiple of 2 & 3.\n",
    "\n",
    "Hint: use \"modulo\" operator and \"and/or\" operators"
   ]
  },
  {
   "cell_type": "code",
   "execution_count": 7,
   "id": "a94f69b5",
   "metadata": {},
   "outputs": [
    {
     "name": "stdout",
     "output_type": "stream",
     "text": [
      "1\n",
      "5\n",
      "7\n",
      "11\n",
      "13\n",
      "17\n",
      "19\n"
     ]
    }
   ],
   "source": [
    "for a in range(1,21):\n",
    "    if (a%2!=0) and (a%3!=0):\n",
    "        print(a)"
   ]
  },
  {
   "cell_type": "markdown",
   "id": "b123a205",
   "metadata": {},
   "source": [
    "### Task2:\n",
    "Write a program that keep on accepting number from the user until user enters Zero. Display the sum and average of all the numbers.\n",
    "\n",
    "Hint: Use while loop with flag. "
   ]
  },
  {
   "cell_type": "code",
   "execution_count": 76,
   "id": "da4000d7",
   "metadata": {},
   "outputs": [
    {
     "name": "stdout",
     "output_type": "stream",
     "text": [
      "Enter a number. enter 0 to exit 1111111\n",
      "Enter a number. enter 0 to exit 2222222222\n",
      "Enter a number. enter 0 to exit 333333333333\n",
      "Enter a number. enter 0 to exit 4444444444\n",
      "Enter a number. enter 0 to exit 5555555555555\n",
      "Enter a number. enter 0 to exit 666666666666\n",
      "Enter a number. enter 0 to exit 7777777777777\n",
      "Enter a number. enter 0 to exit 888888888888\n",
      "Enter a number. enter 0 to exit 111111111111111111\n",
      "Enter a number. enter 0 to exit 222222222222222222\n",
      "Enter a number. enter 0 to exit 333333333333\n",
      "Enter a number. enter 0 to exit 4444444444444444\n",
      "Enter a number. enter 0 to exit 555555555555555555\n",
      "Enter a number. enter 0 to exit 0\n",
      "The sum of entered number is 893348895556666661 and the average of entered number is 6.871914581205128e+16\n"
     ]
    }
   ],
   "source": [
    "flag = True\n",
    "user_input = 0\n",
    "count = 0\n",
    "asum = 0\n",
    "while flag == True:\n",
    "    user_input = int(input(\"Enter a number. enter 0 to exit \"))\n",
    "    if user_input != 0:\n",
    "        asum = asum + user_input\n",
    "        count += 1\n",
    "    else:\n",
    "        flag = False\n",
    "avg = asum / count\n",
    "print(f\"The sum of entered number is {asum} and the average of entered number is {avg}\")"
   ]
  },
  {
   "cell_type": "markdown",
   "id": "9ea5024e",
   "metadata": {},
   "source": [
    "# Task3:\n",
    "Accept 10 numbers from the user and display their average.\n",
    "\n",
    "Hint: Use loop for accepting numbers or use split to take input in one go"
   ]
  },
  {
   "cell_type": "code",
   "execution_count": 77,
   "id": "2b0df5e6",
   "metadata": {},
   "outputs": [
    {
     "name": "stdout",
     "output_type": "stream",
     "text": [
      "Enter a number1\n",
      "Enter a number2\n",
      "Enter a number3\n",
      "Enter a number4\n",
      "Enter a number5\n",
      "Enter a number6\n",
      "Enter a number7\n",
      "Enter a number8\n",
      "Enter a number9\n",
      "Enter a number10\n",
      "The average of the numbers is 5.5\n"
     ]
    }
   ],
   "source": [
    "add = 0\n",
    "for num in range (1,11):\n",
    "    num =int(input(\"Enter a number\"))\n",
    "    add += num\n",
    "avrg = add / 10\n",
    "print(f\"The average of the numbers is {avrg}\")"
   ]
  },
  {
   "cell_type": "markdown",
   "id": "e17466dd",
   "metadata": {},
   "source": [
    "### Task4:\n",
    "Write a program to display sum of odd numbers and even numbers that fall between 12 and 37(including both numbers)\n"
   ]
  },
  {
   "cell_type": "code",
   "execution_count": 78,
   "id": "d5715b5c",
   "metadata": {},
   "outputs": [
    {
     "name": "stdout",
     "output_type": "stream",
     "text": [
      "The sum of even numbers is 312 \n",
      "      and the sum of odd numbers is 325\n"
     ]
    }
   ],
   "source": [
    "even = []\n",
    "odd = []\n",
    "soe = 0\n",
    "soo = 0\n",
    "for num in range(12,38):\n",
    "    if num%2==0:\n",
    "        even.append(num)\n",
    "    else:\n",
    "        odd.append(num)\n",
    "for a in even:\n",
    "    soe += a\n",
    "for b in odd:\n",
    "    soo += b\n",
    "print(f'''The sum of even numbers is {soe} \n",
    "      and the sum of odd numbers is {soo}''')    "
   ]
  },
  {
   "cell_type": "markdown",
   "id": "4c64217d",
   "metadata": {},
   "source": [
    "### Task5:\n",
    "Write a program to print table of a number accepted from user.\n"
   ]
  },
  {
   "cell_type": "raw",
   "id": "d69f5679",
   "metadata": {},
   "source": [
    "Output: \n",
    "7 * 1 = 7\n",
    "7 * 2 = 14\n",
    "7 * 3 = 21\n",
    "7 * 4 = 28\n",
    "7 * 5 = 35\n",
    "7 * 6 = 42\n",
    "7 * 7 = 49\n",
    "7 * 8 = 56\n",
    "7 * 9 = 63\n",
    "7 * 10 = 70           "
   ]
  },
  {
   "cell_type": "code",
   "execution_count": 83,
   "id": "3305bb3d",
   "metadata": {},
   "outputs": [
    {
     "name": "stdout",
     "output_type": "stream",
     "text": [
      "Enter the table number 120\n",
      "120 * 1 = 120\n",
      "120 * 2 = 240\n",
      "120 * 3 = 360\n",
      "120 * 4 = 480\n",
      "120 * 5 = 600\n",
      "120 * 6 = 720\n",
      "120 * 7 = 840\n",
      "120 * 8 = 960\n",
      "120 * 9 = 1080\n",
      "120 * 10 = 1200\n"
     ]
    }
   ],
   "source": [
    "table = int(input(\"Enter the table number \")) \n",
    "for a in range(1,11):\n",
    "    print(f\"{table} * {a} = {table*a}\")"
   ]
  },
  {
   "cell_type": "markdown",
   "id": "fc08df86",
   "metadata": {},
   "source": [
    "### Task6:\n",
    "Write a program to display product of the digits of a number accepted from the user.\n",
    "\n",
    "If user inputs:123 Outputs 6\n",
    "\n",
    "If user inputs: 567 Outputs 210"
   ]
  },
  {
   "cell_type": "code",
   "execution_count": 183,
   "id": "e793d4c9",
   "metadata": {},
   "outputs": [
    {
     "name": "stdout",
     "output_type": "stream",
     "text": [
      "Please enter a number \n",
      "Error: you dont have entered a number\n"
     ]
    }
   ],
   "source": [
    "num = input(\"Please enter a number \")\n",
    "if len(num)>0:\n",
    "    prod = 1\n",
    "    for a in num:\n",
    "        prod *= int(a)\n",
    "    print(prod)\n",
    "else:\n",
    "    print(\"Error: you dont have entered a number\")"
   ]
  },
  {
   "cell_type": "markdown",
   "id": "f041397e",
   "metadata": {},
   "source": [
    "### Task7: \n",
    "Write a program to print first 10 even numbers in reverse order."
   ]
  },
  {
   "cell_type": "code",
   "execution_count": 87,
   "id": "b639f15e",
   "metadata": {},
   "outputs": [
    {
     "name": "stdout",
     "output_type": "stream",
     "text": [
      "20\n",
      "18\n",
      "16\n",
      "14\n",
      "12\n",
      "10\n",
      "8\n",
      "6\n",
      "4\n",
      "2\n"
     ]
    }
   ],
   "source": [
    "for num in range(20,0,-2):\n",
    "    print(num)"
   ]
  },
  {
   "cell_type": "markdown",
   "id": "37b679bb",
   "metadata": {},
   "source": [
    "### Task8:\n",
    "Write a program to find the sum of the digits of a number accepted from user\n",
    "\n",
    "If user inputs:123 Outputs 6\n",
    "\n",
    "If user inputs: 567 Outputs 18"
   ]
  },
  {
   "cell_type": "code",
   "execution_count": 186,
   "id": "adef66ce",
   "metadata": {},
   "outputs": [
    {
     "name": "stdout",
     "output_type": "stream",
     "text": [
      "Please enter a number\n",
      "ERROR: You does not entered a number\n"
     ]
    }
   ],
   "source": [
    "number = input(\"Please enter a number\")\n",
    "if len(number)>0:\n",
    "    add = 0\n",
    "    for i in number:\n",
    "        add += int(i)\n",
    "    print(add)\n",
    "else:\n",
    "    print(\"ERROR: You does not entered a number\")"
   ]
  },
  {
   "cell_type": "markdown",
   "id": "8b87f377",
   "metadata": {},
   "source": [
    "### Task9:\n",
    "Write a program that accepts a sentence and calculate the number of letters and digits.\n",
    "\n",
    "Suppose the following input is supplied to the program:\n",
    "\n",
    "hello world! 123\n",
    "\n",
    "Then, the output should be:\n",
    "\n",
    "LETTERS 10\n",
    "\n",
    "DIGITS 3\n"
   ]
  },
  {
   "cell_type": "code",
   "execution_count": 195,
   "id": "73835ab3",
   "metadata": {},
   "outputs": [
    {
     "name": "stdout",
     "output_type": "stream",
     "text": [
      "Enter a sentenceEnter a sentencei am naveed ali.i am 30 years old. i have 16 years of educations.\n",
      "LETTERS 59 \n",
      " DIGITS 4\n",
      "<module 'string' from 'C:\\\\Users\\\\PMD8\\\\anaconda3\\\\lib\\\\string.py'>\n"
     ]
    }
   ],
   "source": [
    "import string\n",
    "a_sentence = input(\"Enter a sentence\")\n",
    "letters = 0\n",
    "digits = 0\n",
    "for char in a_sentence:\n",
    "    if char.isdigit():\n",
    "        digits += 1\n",
    "    elif char.isalpha():\n",
    "        letters += 1\n",
    "    elif char== \" \":\n",
    "        continue\n",
    "    else:\n",
    "        continue\n",
    "print(\"LETTERS\", letters,\"\\n\",\"DIGITS\", digits)"
   ]
  },
  {
   "cell_type": "markdown",
   "id": "a25b412b",
   "metadata": {},
   "source": [
    "### Task10: \n",
    "You need to trace and make a list of all such numbers from1000 to 3000 in which all the digits are even numbers."
   ]
  },
  {
   "cell_type": "code",
   "execution_count": 169,
   "id": "a3c27a5e",
   "metadata": {},
   "outputs": [
    {
     "name": "stdout",
     "output_type": "stream",
     "text": [
      "[2000, 2002, 2004, 2006, 2008, 2020, 2022, 2024, 2026, 2028, 2040, 2042, 2044, 2046, 2048, 2060, 2062, 2064, 2066, 2068, 2080, 2082, 2084, 2086, 2088, 2200, 2202, 2204, 2206, 2208, 2220, 2222, 2224, 2226, 2228, 2240, 2242, 2244, 2246, 2248, 2260, 2262, 2264, 2266, 2268, 2280, 2282, 2284, 2286, 2288, 2400, 2402, 2404, 2406, 2408, 2420, 2422, 2424, 2426, 2428, 2440, 2442, 2444, 2446, 2448, 2460, 2462, 2464, 2466, 2468, 2480, 2482, 2484, 2486, 2488, 2600, 2602, 2604, 2606, 2608, 2620, 2622, 2624, 2626, 2628, 2640, 2642, 2644, 2646, 2648, 2660, 2662, 2664, 2666, 2668, 2680, 2682, 2684, 2686, 2688, 2800, 2802, 2804, 2806, 2808, 2820, 2822, 2824, 2826, 2828, 2840, 2842, 2844, 2846, 2848, 2860, 2862, 2864, 2866, 2868, 2880, 2882, 2884, 2886, 2888]\n"
     ]
    },
    {
     "data": {
      "text/plain": [
       "{'0', '2', '4', '6', '8'}"
      ]
     },
     "execution_count": 169,
     "metadata": {},
     "output_type": "execute_result"
    }
   ],
   "source": [
    "even = []\n",
    "allowed = {\"0\",\"2\",\"4\",\"6\",\"8\"}\n",
    "for a in range(1000,3001):\n",
    "    if set(str(a)) <= allowed:\n",
    "        even.append(a)\n",
    "print(even)"
   ]
  },
  {
   "cell_type": "markdown",
   "id": "ddc08744",
   "metadata": {},
   "source": [
    "### Task11: \n",
    "You need to write a program that counts the number of vowels in a given sentence as input from console. \n",
    "\n",
    "Suppose the following input is supplied to the program:\n",
    "\n",
    "Hello world! Practice makes perfect\n",
    "\n",
    "Then, the output should be:\n",
    "\n",
    "a appeared 2 times\n",
    "\n",
    "e appeared 5 times\n",
    "\n",
    "i appeared  1 time\n",
    "\n",
    "o appeared 2 times\n",
    "\n",
    "u appeared 0 time\n"
   ]
  },
  {
   "cell_type": "code",
   "execution_count": 98,
   "id": "0ed960fd",
   "metadata": {},
   "outputs": [
    {
     "name": "stdout",
     "output_type": "stream",
     "text": [
      "Enter a sentencemy name is naveed ali. i am mechanical engineer for quest nawabshah.\n",
      "\n",
      "      a appeared 9 times\n",
      "\n",
      "      e appeared 8 times\n",
      "\n",
      "      i appeared 5 time\n",
      "\n",
      "      o appeared 1 times\n",
      "\n",
      "      u appeared 1 time\n",
      "\n"
     ]
    }
   ],
   "source": [
    "adict = {}\n",
    "sentence = input(\"Enter a sentence \")\n",
    "sentence = sentence.lower()\n",
    "adict[\"a\"] = sentence.count(\"a\")\n",
    "adict[\"e\"] = sentence.count(\"e\")\n",
    "adict[\"i\"] = sentence.count(\"i\")\n",
    "adict[\"o\"] = sentence.count(\"o\")\n",
    "adict[\"u\"] = sentence.count(\"u\")\n",
    "print(f'''\n",
    "      a appeared {adict[\"a\"]} times\n",
    "\n",
    "      e appeared {adict[\"e\"]} times\n",
    "\n",
    "      i appeared {adict[\"i\"]} time\n",
    "\n",
    "      o appeared {adict[\"o\"]} times\n",
    "\n",
    "      u appeared {adict[\"u\"]} time\n",
    "''')"
   ]
  },
  {
   "cell_type": "code",
   "execution_count": 145,
   "id": "d84b0ba7",
   "metadata": {},
   "outputs": [
    {
     "name": "stdout",
     "output_type": "stream",
     "text": [
      "Enter a sentence: i am NAVEED ali bangash. i am mechanical engineer\n",
      "a appeared 8 Times\n",
      "e appeared 6 Times\n",
      "i appeared 5 Times\n",
      "o appeared 0 Times\n",
      "u appeared 0 Times\n"
     ]
    }
   ],
   "source": [
    "vowels = ['a', 'e', 'i', 'o', 'u']\n",
    "sntnc = input(\"Enter a sentence: \").lower()\n",
    "for alpha in vowels:\n",
    "    print(alpha,\"appeared\", sntnc.count(alpha), \"Times\")        "
   ]
  },
  {
   "cell_type": "markdown",
   "id": "45a0c3c4",
   "metadata": {},
   "source": [
    "### Task12:\n",
    "You need to write a program that takes sequence of lines as input and prints the lines after making all characters in the sentence capitalized.\n",
    "\n",
    "Suppose the following input is supplied to the program:\n",
    "\n",
    "Hello world\n",
    "\n",
    "Practice makes perfect\n",
    "\n",
    "Then, the output should be:\n",
    "\n",
    "HELLO WORLD\n",
    "PRACTICE MAKES PERFECT"
   ]
  },
  {
   "cell_type": "code",
   "execution_count": 159,
   "id": "029fc3d6",
   "metadata": {},
   "outputs": [
    {
     "name": "stdout",
     "output_type": "stream",
     "text": [
      "Enter a sentencei an naveed ali, i am 30 years old, i love programming\n",
      "['I AN NAVEED ALI', ' I AM 30 YEARS OLD', ' I LOVE PROGRAMMING']\n",
      "I AN NAVEED ALI\n",
      " I AM 30 YEARS OLD\n",
      " I LOVE PROGRAMMING\n"
     ]
    }
   ],
   "source": [
    "lines = input(\"Enter a sentence\").upper().split(\",\")\n",
    "for a in lines:\n",
    "    print(a)"
   ]
  },
  {
   "cell_type": "markdown",
   "id": "a374068f",
   "metadata": {},
   "source": [
    "### Task13:\n",
    "You need to write a code that takes a comma separated sequence of words as input and prints the words in a comma-separated sequence after sorting them alphabetically.\n",
    "\n",
    "Suppose the following input is supplied to the program:\n",
    "\n",
    "without,hello,bag,world\n",
    "\n",
    "Then, the output should be:\n",
    "\n",
    "bag,hello,without,world"
   ]
  },
  {
   "cell_type": "code",
   "execution_count": 158,
   "id": "488509b9",
   "metadata": {},
   "outputs": [
    {
     "name": "stdout",
     "output_type": "stream",
     "text": [
      "Please enter a sequence of words separated by ,zoo,ball,cat,tea,number,apple,car,dog,ear,foot\n",
      "['apple', 'ball', 'car', 'cat', 'dog', 'ear', 'foot', 'number', 'tea', 'zoo']"
     ]
    }
   ],
   "source": [
    "asentence = []\n",
    "asentence = input(\"Please enter a sequence of words separated by ,\").split(\",\")\n",
    "asentence.sort()\n",
    "print(asentence,end='')"
   ]
  },
  {
   "cell_type": "markdown",
   "id": "0d9422e7",
   "metadata": {},
   "source": [
    "### Task14:\n",
    "You need code a program that calculates and prints the value according to the given formula:\n",
    "P = Square root of [(2 * A * B)/C]\n",
    "\n",
    "Following are the fixed values of A and B:\n",
    "\n",
    "A is 50. B is 30.\n",
    "\n",
    "The values of the literal C should be taken as console input to your program in a comma-separated sequence.\n",
    "\n",
    "Example:\n",
    "Let us assume the following comma separated input sequence is given to the program:\n",
    "100,150,180\n",
    "\n",
    "The output of the program should be:\n",
    "18,22,24"
   ]
  },
  {
   "cell_type": "code",
   "execution_count": 151,
   "id": "1b6731be",
   "metadata": {},
   "outputs": [
    {
     "name": "stdout",
     "output_type": "stream",
     "text": [
      "Please enter values of C separated by ,\n",
      "1,2,3\n",
      "[55, 39, 32]\n"
     ]
    }
   ],
   "source": [
    "A = 50\n",
    "B = 30\n",
    "P_values = []\n",
    "C_values = input(\"Please enter values of C separated by ,\\n\").split(\",\")\n",
    "for c in C_values:\n",
    "    C = int(c)\n",
    "    P = round(((2*A*B)/C)**0.5)\n",
    "    P_values.append(P)\n",
    "print(P_values)"
   ]
  },
  {
   "cell_type": "markdown",
   "id": "87f9f13d",
   "metadata": {},
   "source": [
    "## Task15:\n",
    "You need to write a ocde in python that finds all such numbers which are divisible by 7 but are not a multiple of 5,\n",
    "between 2000 and 3200 (both included).\n",
    "\n",
    "Print the obtained numbers in a comma-separated sequence on a single line\n",
    "\n",
    "Hint: modulo operator, and/or operator, for loop /while loop"
   ]
  },
  {
   "cell_type": "code",
   "execution_count": 127,
   "id": "ba3d9d96",
   "metadata": {},
   "outputs": [
    {
     "name": "stdout",
     "output_type": "stream",
     "text": [
      "[2002, 2009, 2016, 2023, 2037, 2044, 2051, 2058, 2072, 2079, 2086, 2093, 2107, 2114, 2121, 2128, 2142, 2149, 2156, 2163, 2177, 2184, 2191, 2198, 2212, 2219, 2226, 2233, 2247, 2254, 2261, 2268, 2282, 2289, 2296, 2303, 2317, 2324, 2331, 2338, 2352, 2359, 2366, 2373, 2387, 2394, 2401, 2408, 2422, 2429, 2436, 2443, 2457, 2464, 2471, 2478, 2492, 2499, 2506, 2513, 2527, 2534, 2541, 2548, 2562, 2569, 2576, 2583, 2597, 2604, 2611, 2618, 2632, 2639, 2646, 2653, 2667, 2674, 2681, 2688, 2702, 2709, 2716, 2723, 2737, 2744, 2751, 2758, 2772, 2779, 2786, 2793, 2807, 2814, 2821, 2828, 2842, 2849, 2856, 2863, 2877, 2884, 2891, 2898, 2912, 2919, 2926, 2933, 2947, 2954, 2961, 2968, 2982, 2989, 2996, 3003, 3017, 3024, 3031, 3038, 3052, 3059, 3066, 3073, 3087, 3094, 3101, 3108, 3122, 3129, 3136, 3143, 3157, 3164, 3171, 3178, 3192, 3199]\n"
     ]
    }
   ],
   "source": [
    "numbers = []\n",
    "for num in range(2000,3201):\n",
    "    if num%7==0 and num%5!=0:\n",
    "        numbers.append(num)\n",
    "print(numbers)"
   ]
  },
  {
   "cell_type": "markdown",
   "id": "f75c81d1",
   "metadata": {},
   "source": [
    "### Task16:\n",
    "With a given integral number n, write a program to generate a dictionary that contains (i, i*i) such that is an integral number between 1 and n (both included). and then the program should print the dictionary.\n",
    "\n",
    "Suppose the following input is supplied to the program:\n",
    "\n",
    "8\n",
    "\n",
    "Then, the output should be:\n",
    "\n",
    "{1: 1, 2: 4, 3: 9, 4: 16, 5: 25, 6: 36, 7: 49, 8: 64}"
   ]
  },
  {
   "cell_type": "code",
   "execution_count": 134,
   "id": "451bacfc",
   "metadata": {},
   "outputs": [
    {
     "name": "stdout",
     "output_type": "stream",
     "text": [
      "Please enter a number120\n",
      "{1: 1, 2: 4, 3: 9, 4: 16, 5: 25, 6: 36, 7: 49, 8: 64, 9: 81, 10: 100, 11: 121, 12: 144, 13: 169, 14: 196, 15: 225, 16: 256, 17: 289, 18: 324, 19: 361, 20: 400, 21: 441, 22: 484, 23: 529, 24: 576, 25: 625, 26: 676, 27: 729, 28: 784, 29: 841, 30: 900, 31: 961, 32: 1024, 33: 1089, 34: 1156, 35: 1225, 36: 1296, 37: 1369, 38: 1444, 39: 1521, 40: 1600, 41: 1681, 42: 1764, 43: 1849, 44: 1936, 45: 2025, 46: 2116, 47: 2209, 48: 2304, 49: 2401, 50: 2500, 51: 2601, 52: 2704, 53: 2809, 54: 2916, 55: 3025, 56: 3136, 57: 3249, 58: 3364, 59: 3481, 60: 3600, 61: 3721, 62: 3844, 63: 3969, 64: 4096, 65: 4225, 66: 4356, 67: 4489, 68: 4624, 69: 4761, 70: 4900, 71: 5041, 72: 5184, 73: 5329, 74: 5476, 75: 5625, 76: 5776, 77: 5929, 78: 6084, 79: 6241, 80: 6400, 81: 6561, 82: 6724, 83: 6889, 84: 7056, 85: 7225, 86: 7396, 87: 7569, 88: 7744, 89: 7921, 90: 8100, 91: 8281, 92: 8464, 93: 8649, 94: 8836, 95: 9025, 96: 9216, 97: 9409, 98: 9604, 99: 9801, 100: 10000, 101: 10201, 102: 10404, 103: 10609, 104: 10816, 105: 11025, 106: 11236, 107: 11449, 108: 11664, 109: 11881, 110: 12100, 111: 12321, 112: 12544, 113: 12769, 114: 12996, 115: 13225, 116: 13456, 117: 13689, 118: 13924, 119: 14161}\n"
     ]
    }
   ],
   "source": [
    "n = int(input(\"Please enter a number\"))\n",
    "adictionary = {}\n",
    "for anum in range(1,n):\n",
    "    adictionary[anum] = anum**2\n",
    "print(adictionary)"
   ]
  },
  {
   "cell_type": "markdown",
   "id": "bd2b39a0",
   "metadata": {},
   "source": [
    "### Task17:\n",
    "You need to write a code which accepts a sequence of comma separated 4 digit binary numbers as its input and then check whether they are divisible by 5 or not. \n",
    "\n",
    "The numbers that are divisible by 5 are to be printed in a comma separated sequence.\n",
    "\n",
    "Example:\n",
    "\n",
    "0100,0011,1010,1001\n",
    "\n",
    "Then the output should be:\n",
    "1010\n",
    "\n",
    "Reference: \n",
    "1) https://www.datacamp.com/.../python-data-type-conversion\n",
    "\n",
    "2) https://stackoverflow.com/questions/21765779/converting-binary-to-decimal-integer-output?fbclid=IwAR3DD_oiq5pn99IjyxSJgojvB5W6M4JqQtv4EUl_IF_DtmuRXlP-DswcKAA"
   ]
  },
  {
   "cell_type": "code",
   "execution_count": 136,
   "id": "d88c2527",
   "metadata": {},
   "outputs": [
    {
     "name": "stdout",
     "output_type": "stream",
     "text": [
      "Please enter binary numbers separated by ,\n",
      "0000, 0001, 0010, 0011, 1010\n",
      "['0000', ' 1010']\n"
     ]
    }
   ],
   "source": [
    "binary = input(\"Please enter binary numbers separated by ,\\n\").split(\",\")\n",
    "rslt = []\n",
    "for bnry in binary:\n",
    "    dec = int(bnry, 2)\n",
    "    if dec%5==0:\n",
    "        rslt.append(bnry)\n",
    "print(rslt)"
   ]
  }
 ],
 "metadata": {
  "kernelspec": {
   "display_name": "Python 3 (ipykernel)",
   "language": "python",
   "name": "python3"
  },
  "language_info": {
   "codemirror_mode": {
    "name": "ipython",
    "version": 3
   },
   "file_extension": ".py",
   "mimetype": "text/x-python",
   "name": "python",
   "nbconvert_exporter": "python",
   "pygments_lexer": "ipython3",
   "version": "3.9.12"
  }
 },
 "nbformat": 4,
 "nbformat_minor": 5
}
