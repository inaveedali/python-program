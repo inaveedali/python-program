{
 "cells": [
  {
   "cell_type": "markdown",
   "id": "ac6f64a4",
   "metadata": {},
   "source": [
    "##### Task1: Mean \n",
    "Breifly decribe the term <b>Mean</b> (<i>dont write formula that sum of all numbers divide by total numbers) </i>\n",
    "Try to present some statistical view of mean(Average).\n",
    "You need to find the mean Average of the array(list). Not built-in function is allowed to use. \n",
    "\n",
    "Example : if user supplies a list [2,3,4,5,5,4,6,7,8,9]\n",
    "\n",
    "The output should be:\n",
    "\n",
    "The mean of the array [2,3,4,5,5,4,6,7,8,9] is 5.3"
   ]
  },
  {
   "cell_type": "code",
   "execution_count": null,
   "id": "ac17a4c8",
   "metadata": {},
   "outputs": [],
   "source": [
    "#In statistics, the mean summarizes an entire dataset with a single number representing the data's \n",
    "#center point or typical value. \n",
    "#It is also known as the arithmetic average, and it is one of several measures of central tendency.\n",
    "#It is likely the measure of central tendency with which you're most familiar!"
   ]
  },
  {
   "cell_type": "code",
   "execution_count": 13,
   "id": "3aea8da2",
   "metadata": {},
   "outputs": [
    {
     "name": "stdout",
     "output_type": "stream",
     "text": [
      "enter numbers separated by , 1,2,3,4,5\n",
      "3.0\n"
     ]
    }
   ],
   "source": [
    "abc = []\n",
    "abc = input(\"enter numbers separated by , \").split(\",\")\n",
    "abc = list(map(float,abc))\n",
    "sum = 0\n",
    "for i in abc:\n",
    "    sum += i\n",
    "mean = sum/len(abc)\n",
    "print(mean)"
   ]
  },
  {
   "cell_type": "markdown",
   "id": "11c7522f",
   "metadata": {},
   "source": [
    "### an_array = []\n",
    "grtr = []\n",
    "lesser = []\n",
    "asum = 0\n",
    "bsum = 0\n",
    "an_array = input(\"Enter number separated by , \").split(\",\")\n",
    "an_array = list(map(int, an_array))\n",
    "lowest = int(min(an_array))\n",
    "greatest = int(max(an_array))\n",
    "for i in range(lowest, greatest, 0.01):\n",
    "    for z in an_array:\n",
    "        if i == z:\n",
    "            continue\n",
    "        if i < z:\n",
    "            grtr.append(z)\n",
    "        if i > z:\n",
    "            lesser.append(z)\n",
    "    for x in grtr:\n",
    "        asum += x\n",
    "    for y in lesser:\n",
    "        bsum += y\n",
    "    if asum - bsum == 0:\n",
    "        i = average\n",
    "    else:\n",
    "        continue\n",
    "print(f\"Average is {avg}\")    "
   ]
  },
  {
   "cell_type": "markdown",
   "id": "52bedbb9",
   "metadata": {},
   "source": [
    "#### Task2: Median\n",
    "    \n",
    "Breifly decribe the term <b>Median</b> (<i>dont write mathematical formula</i>)\n",
    "\n",
    "You need to find the Median of the array(list). Not built-in function is allowed to use.\n",
    "\n",
    "Example : if user supplies a list [2,3,4,5,5,4,6,7,8,9]\n",
    "\n",
    "The output should be:\n",
    "\n",
    "The median of the array [2,3,4,5,5,4,6,7,8,9] is 5.\n",
    "    "
   ]
  },
  {
   "cell_type": "code",
   "execution_count": null,
   "id": "0f10f151",
   "metadata": {},
   "outputs": [],
   "source": [
    "#Median, in statistics, is the middle value of the given list of data, when arranged in an order.\n",
    "#The arrangement of data or observations can be done either in ascending order or descending order.\n",
    "#Example: The median of 2,3,4 is 3. In Maths, the median is also a type of average, which is used to find the center value."
   ]
  },
  {
   "cell_type": "code",
   "execution_count": 15,
   "id": "85dbe845",
   "metadata": {},
   "outputs": [
    {
     "data": {
      "text/plain": [
       "30"
      ]
     },
     "execution_count": 15,
     "metadata": {},
     "output_type": "execute_result"
    }
   ],
   "source": [
    "an_array\n",
    "greatest"
   ]
  },
  {
   "cell_type": "markdown",
   "id": "41484d7c",
   "metadata": {},
   "source": [
    "#### Task3: Mode \n",
    "Breifly decribe the term <b>Mode</b> (<i>dont write mathematical formula</i>)\n",
    "\n",
    "You need to find the Mode of the array(list). Not built-in function is allowed to use.\n",
    "\n",
    "Example : if user supplies a list [2,3,4,5,3,4,6,7,3,9]\n",
    "\n",
    "The output should be:\n",
    "\n",
    "The median of the array [2,3,4,5,3,4,6,7,8,3] is 3."
   ]
  },
  {
   "cell_type": "code",
   "execution_count": 6,
   "id": "e34c18f9",
   "metadata": {},
   "outputs": [],
   "source": [
    "#The mode is the number in a set of numbers that appears the most often."
   ]
  },
  {
   "cell_type": "code",
   "execution_count": null,
   "id": "653ca886",
   "metadata": {},
   "outputs": [],
   "source": []
  },
  {
   "cell_type": "markdown",
   "id": "ad6fee2a",
   "metadata": {},
   "source": [
    "#### Task4: Sorting an array in ascending order\n",
    "If user supplies an array(list) like arr = [5, 2, 8, 7, 1]. \n",
    "\n",
    "\n",
    "The output should be like:\n",
    "\n",
    "Elements of original array: \n",
    "5 2 8 7 1 \n",
    "\n",
    "Elements of array sorted in ascending order: \n",
    "1 2 5 7 8 \n",
    "\n",
    "Note: We need to write our own sorting algorithm using sort function of list is not acceptable."
   ]
  },
  {
   "cell_type": "code",
   "execution_count": 7,
   "id": "c857c8ba",
   "metadata": {},
   "outputs": [],
   "source": [
    "#Your code goes here "
   ]
  },
  {
   "cell_type": "markdown",
   "id": "b3134432",
   "metadata": {},
   "source": [
    "#### Task5: Sorting an array in descending order\n",
    "\n",
    "If user supplies an array(list) like arr = [5, 2, 8, 7, 1]. \n",
    "\n",
    "\n",
    "The output should be like:\n",
    "\n",
    "Elements of original array: \n",
    "5 2 8 7 1 \n",
    "\n",
    "Elements of array sorted in ascending order: \n",
    "8 7 5 2 1 \n",
    "\n",
    "Note: We need to write our own sorting algorithm. Using sort function of list is not acceptable.\n"
   ]
  },
  {
   "cell_type": "code",
   "execution_count": 9,
   "id": "70452f62",
   "metadata": {},
   "outputs": [],
   "source": [
    "#Your code goes here "
   ]
  },
  {
   "cell_type": "markdown",
   "id": "fe5691a5",
   "metadata": {},
   "source": [
    "#### Task6: Finding the max of the inputted array \n",
    "\n",
    "If user supplies an array(list) like arr = [5, 2, 8, 7, 1]. \n",
    "\n",
    "\n",
    "The output should be like:\n",
    "\n",
    "Max value in the array is 8\n",
    "\n",
    "Note: We need to write our own max algorithm. use of python max function is not acceptable. "
   ]
  },
  {
   "cell_type": "code",
   "execution_count": null,
   "id": "89ab79e3",
   "metadata": {},
   "outputs": [],
   "source": [
    "# Your code goes here"
   ]
  },
  {
   "cell_type": "markdown",
   "id": "04c3bb05",
   "metadata": {},
   "source": [
    "#### Task7: Finding the min of the inputted array\n",
    "If user supplies an array(list) like arr = [5, 2, 8, 7, 1].\n",
    "\n",
    "The output should be like:\n",
    "\n",
    "Min value in the array is 1\n",
    "\n",
    "Note: We need to write our own min algorithm. use of python min function is not acceptable."
   ]
  },
  {
   "cell_type": "code",
   "execution_count": 10,
   "id": "36abc9e4",
   "metadata": {},
   "outputs": [],
   "source": [
    "#Your code goes here "
   ]
  },
  {
   "cell_type": "code",
   "execution_count": null,
   "id": "7c856b2b",
   "metadata": {},
   "outputs": [],
   "source": []
  }
 ],
 "metadata": {
  "kernelspec": {
   "display_name": "Python 3 (ipykernel)",
   "language": "python",
   "name": "python3"
  },
  "language_info": {
   "codemirror_mode": {
    "name": "ipython",
    "version": 3
   },
   "file_extension": ".py",
   "mimetype": "text/x-python",
   "name": "python",
   "nbconvert_exporter": "python",
   "pygments_lexer": "ipython3",
   "version": "3.9.12"
  }
 },
 "nbformat": 4,
 "nbformat_minor": 5
}
