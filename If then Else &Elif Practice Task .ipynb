{
 "cells": [
  {
   "cell_type": "raw",
   "metadata": {},
   "source": [
    "1) A company decided to give bonus of 5% to employee if his/her year of service is more than 5 years.\n",
    "Ask user for their salary and year of service and print the net bonus amount."
   ]
  },
  {
   "cell_type": "code",
   "execution_count": 8,
   "metadata": {},
   "outputs": [
    {
     "name": "stdout",
     "output_type": "stream",
     "text": [
      "Please enter your salary 100000\n",
      "Please enter your year of service 3\n"
     ]
    }
   ],
   "source": [
    "sal = int(input(\"Please enter your salary \"))\n",
    "yos = int(input(\"Please enter your year of service \"))\n",
    "if yos > 5 :\n",
    "    bonus = sal * 0.05\n",
    "    print(\"Congratulations, You got a bonus of {} \".format(bonus) )"
   ]
  },
  {
   "cell_type": "markdown",
   "metadata": {},
   "source": [
    "2) Write a program to check whether a person is eligible for voting or not. (accept age from user)"
   ]
  },
  {
   "cell_type": "code",
   "execution_count": 1,
   "metadata": {},
   "outputs": [
    {
     "name": "stdout",
     "output_type": "stream",
     "text": [
      "Please enter the age of citizen 20\n",
      "Citizen is eligible for Voting \n"
     ]
    }
   ],
   "source": [
    "age = int(input(\"Please enter the age of citizen \"))\n",
    "if age >= 18 :\n",
    "    print(\"Citizen is eligible for Voting \")\n",
    "else :\n",
    "    print(\"Citizen is NOT eligible for Voting \")"
   ]
  },
  {
   "cell_type": "markdown",
   "metadata": {},
   "source": [
    "3) Write a program to check whether a number entered by user is even or odd."
   ]
  },
  {
   "cell_type": "code",
   "execution_count": 2,
   "metadata": {},
   "outputs": [
    {
     "name": "stdout",
     "output_type": "stream",
     "text": [
      "Please enter a number 2\n",
      "You entered an Even number\n"
     ]
    }
   ],
   "source": [
    "num1 = int(input(\"Please enter a number \"))\n",
    "num2 = num1 % 2\n",
    "if num2 == 0:\n",
    "    status = \"Even\"\n",
    "else:\n",
    "    status = \"Odd\"\n",
    "print(f\"You entered an {status} number\")"
   ]
  },
  {
   "cell_type": "markdown",
   "metadata": {},
   "source": [
    "4) Write a program to check whether a number is divisible by 7 or not.\n",
    "Show Answer"
   ]
  },
  {
   "cell_type": "code",
   "execution_count": 7,
   "metadata": {},
   "outputs": [
    {
     "name": "stdout",
     "output_type": "stream",
     "text": [
      "Please enter a number 21\n",
      "The number is divisible by 7\n"
     ]
    }
   ],
   "source": [
    "num3 = int(input(\"Please enter a number \"))\n",
    "num4 = num3 % 7\n",
    "if num4 == 0:\n",
    "    status = \"\"\n",
    "else:\n",
    "    status = \" NOT\"\n",
    "print(f\"The number is{status} divisible by 7\")"
   ]
  },
  {
   "cell_type": "raw",
   "metadata": {},
   "source": [
    "5) Write a program to display \n",
    "\"Hello\" if a number entered by user is a multiple of five , otherwise print \"Bye\"."
   ]
  },
  {
   "cell_type": "code",
   "execution_count": 9,
   "metadata": {},
   "outputs": [
    {
     "name": "stdout",
     "output_type": "stream",
     "text": [
      "Please enter a number 13\n",
      "Bye\n"
     ]
    }
   ],
   "source": [
    "num5 = int(input(\"Please enter a number \"))\n",
    "num6 = num5 % 5\n",
    "if num6 == 0:\n",
    "    status = \"Hello\"\n",
    "else:\n",
    "    status = \"Bye\"\n",
    "print(status)"
   ]
  },
  {
   "cell_type": "raw",
   "metadata": {},
   "source": [
    "6) Write a program to calculate the electricity bill (accept number of unit from user) according to the following criteria :\n",
    "     Unit                                                     Price  \n",
    "uptp 100 units                                             no charge\n",
    "Next 200 units                                              Rs 5 per unit\n",
    "After 200 units                                             Rs 10 per unit\n",
    "(For example if input unit is 350 than total bill amount is Rs.2000\n",
    "(For example if input unit is 97 than total bill amount is Rs.0\n",
    "(For example if input unit is 150 than total bill amount is Rs.250"
   ]
  },
  {
   "cell_type": "code",
   "execution_count": 15,
   "metadata": {},
   "outputs": [
    {
     "name": "stdout",
     "output_type": "stream",
     "text": [
      "Please enter the number of units consumed350\n",
      "The total bill amount is 3500 rupees only\n"
     ]
    }
   ],
   "source": [
    "unit = int(input(\"Please enter the number of units consumed\"))\n",
    "if unit <= 100:\n",
    "    tb = 0\n",
    "elif unit > 100 and unit <= 200:\n",
    "    tb = unit * 5\n",
    "elif unit > 200:\n",
    "    tb = unit * 10\n",
    "print(f\"The total bill amount is {tb} rupees only\")"
   ]
  },
  {
   "cell_type": "raw",
   "metadata": {},
   "source": [
    "7) Write a program to display the last digit of a number."
   ]
  },
  {
   "cell_type": "code",
   "execution_count": 5,
   "metadata": {},
   "outputs": [
    {
     "name": "stdout",
     "output_type": "stream",
     "text": [
      "Please enter a number2133223121221212359\n",
      "The last digit of the number is 9 \n"
     ]
    }
   ],
   "source": [
    "num5 = int(input(\"Please enter a number\"))\n",
    "num6 = num5 % 10\n",
    "print(f\"The last digit of the number is {num6} \")"
   ]
  },
  {
   "cell_type": "raw",
   "metadata": {},
   "source": [
    "Q8. Write a program to check whether the last digit of a number( entered by user ) is \n",
    "divisible by 3 or not."
   ]
  },
  {
   "cell_type": "code",
   "execution_count": 9,
   "metadata": {},
   "outputs": [
    {
     "name": "stdout",
     "output_type": "stream",
     "text": [
      "Please enter a number 2123134321\n",
      "The last digit of the number is NOT divisible by 3 \n"
     ]
    }
   ],
   "source": [
    "num7 = int(input(\"Please enter a number \"))\n",
    "num8 = num7 % 10\n",
    "num9 = num8 % 3\n",
    "if num9 == 0:\n",
    "    status = \"\"\n",
    "else :\n",
    "    status = \"NOT\"\n",
    "print(f\"The last digit of the number is {status} divisible by 3 \")"
   ]
  },
  {
   "cell_type": "raw",
   "metadata": {},
   "source": [
    "9) Take values of length and breadth of a rectangle from user and check if it is square or not."
   ]
  },
  {
   "cell_type": "code",
   "execution_count": 2,
   "metadata": {},
   "outputs": [
    {
     "name": "stdout",
     "output_type": "stream",
     "text": [
      "Please enter length 12\n",
      "Please enter breadth 23\n",
      "This is NOT a square\n"
     ]
    }
   ],
   "source": [
    "lent = int(input(\"Please enter length \"))\n",
    "brdt = int(input(\"Please enter breadth \"))\n",
    "if lent == brdt:\n",
    "    status = \"\"\n",
    "else :\n",
    "    status = \"NOT\"\n",
    "print(f\"This is {status} a square\")"
   ]
  },
  {
   "cell_type": "raw",
   "metadata": {},
   "source": [
    "10) Take two int values from user and print greatest among them."
   ]
  },
  {
   "cell_type": "code",
   "execution_count": 4,
   "metadata": {},
   "outputs": [
    {
     "name": "stdout",
     "output_type": "stream",
     "text": [
      "Please enter the first number 12\n",
      "Please enter the second number 12\n",
      "The greatest number is 12 \n"
     ]
    }
   ],
   "source": [
    "num10 = int(input(\"Please enter the first number \"))\n",
    "num11 = int(input(\"Please enter the second number \"))\n",
    "if num10 >= num11:\n",
    "    grt = num10\n",
    "elif num11 > num10:\n",
    "    grt = num11\n",
    "print(f\"The greatest number is {grt} \")"
   ]
  },
  {
   "cell_type": "raw",
   "metadata": {},
   "source": [
    "11) A shop will give discount of 10% if the cost of purchased quantity is more than 1000.\n",
    "Ask user for quantity\n",
    "Suppose, one unit will cost 100.\n",
    "Judge and print total cost for user."
   ]
  },
  {
   "cell_type": "code",
   "execution_count": 10,
   "metadata": {},
   "outputs": [
    {
     "name": "stdout",
     "output_type": "stream",
     "text": [
      "Quantity purchased= 10\n",
      "The total cost is 1000\n"
     ]
    }
   ],
   "source": [
    "qty = int(input(\"Quantity purchased= \"))\n",
    "cost = qty * 100\n",
    "if cost > 1000:\n",
    "    tcost = cost - (cost * 0.1)\n",
    "else:\n",
    "    tcost = cost\n",
    "print(f\"The total cost is {tcost}\")"
   ]
  },
  {
   "cell_type": "raw",
   "metadata": {},
   "source": [
    "12) A school has following rules for grading system:\n",
    "\n",
    "a. Below 25 - F\n",
    "\n",
    "b. 25 to 45 - E\n",
    "\n",
    "c. 45 to 50 - D\n",
    "\n",
    "d. 50 to 60 - C\n",
    "\n",
    "e. 60 to 80 - B\n",
    "\n",
    "f. Above 80 - A\n",
    "\n",
    "Ask user to enter marks and print the corresponding grade."
   ]
  },
  {
   "cell_type": "code",
   "execution_count": 18,
   "metadata": {},
   "outputs": [
    {
     "name": "stdout",
     "output_type": "stream",
     "text": [
      "Please enter your marks 55\n",
      "You got C\n"
     ]
    }
   ],
   "source": [
    "mrks = int(input(\"Please enter your marks \"))\n",
    "if mrks >= 80:\n",
    "    grade = \"A\"\n",
    "elif mrks >= 60 and mrks < 80:\n",
    "    grade = \"B\"\n",
    "elif mrks >= 50 and mrks < 60:\n",
    "    grade = \"C\"\n",
    "elif mrks >= 45 and mrks < 50:\n",
    "    grade = \"D\"\n",
    "elif mrks >= 25 and mrks < 45:\n",
    "    grade = \"E\"\n",
    "elif mrks < 25:\n",
    "    grade = \"F\"\n",
    "else:\n",
    "    grade = \"Invalid number\"\n",
    "print(f\"You got {grade}\")"
   ]
  },
  {
   "cell_type": "raw",
   "metadata": {},
   "source": [
    "13) Take input of age of 3 people by user and determine oldest and youngest among them."
   ]
  },
  {
   "cell_type": "code",
   "execution_count": 17,
   "metadata": {},
   "outputs": [
    {
     "name": "stdout",
     "output_type": "stream",
     "text": [
      "Enter age of person 1: 12\n",
      "Enter age of person 2: 3\n",
      "Enter age of person 3: 44\n",
      "The person with highest age is: 44\n",
      "The person with lowest age is: 3\n"
     ]
    }
   ],
   "source": [
    "age = [int(input(f\"Enter age of person {i+1}: \")) for i in range(3)]\n",
    "high = low = age[0]\n",
    "for i in range(3):\n",
    "    if age[i] > high:\n",
    "        high = age[i]\n",
    "    elif age[i] < low:\n",
    "        low = age[i]\n",
    "print(f\"The person with highest age is: {high}\\nThe person with lowest age is: {low}\")"
   ]
  },
  {
   "cell_type": "raw",
   "metadata": {},
   "source": [
    "14)A student will not be allowed to sit in exam if his/her attendence is less than 75%.\n",
    "\n",
    "Take following input from user\n",
    "\n",
    "Number of classes held\n",
    "\n",
    "Number of classes attended.\n",
    "\n",
    "And print\n",
    "\n",
    "percentage of class attended\n",
    "\n",
    "Is student is allowed to sit in exam or not.\n"
   ]
  },
  {
   "cell_type": "code",
   "execution_count": 8,
   "metadata": {},
   "outputs": [
    {
     "name": "stdout",
     "output_type": "stream",
     "text": [
      "enter number of classes held 100\n",
      "enter number of classes attended 60\n",
      "You are NOT allowed to sit in the exam\n"
     ]
    }
   ],
   "source": [
    "class_held = int(input(\"enter number of classes held \"))\n",
    "class_att = int(input(\"enter number of classes attended \"))\n",
    "per = (class_att/class_held) * 100\n",
    "if per >= 75:\n",
    "    status = \"\"\n",
    "else :\n",
    "    status = \"NOT\"\n",
    "print(f\"You are {status} allowed to sit in the exam\")"
   ]
  },
  {
   "cell_type": "raw",
   "metadata": {},
   "source": [
    "15) Modify the above question to allow student to sit if he/she has medical cause. Ask user if he/she has medical cause or not ( 'Y' or 'N' ) and print accordingly"
   ]
  },
  {
   "cell_type": "code",
   "execution_count": 31,
   "metadata": {},
   "outputs": [
    {
     "name": "stdout",
     "output_type": "stream",
     "text": [
      "enter number of classes held 200\n",
      "enter number of classes attended 180\n",
      "are you have medical cause Y/N y\n",
      "You are NOT allowed to sit in the exam\n"
     ]
    }
   ],
   "source": [
    "class_held = int(input(\"enter number of classes held \"))\n",
    "class_att = int(input(\"enter number of classes attended \"))\n",
    "medcs = input(\"are you have medical cause Y/N \")\n",
    "medcs.upper()\n",
    "per = (class_att/class_held) * 100\n",
    "if per >= 75 and medcs == \"Y\":\n",
    "    status = \"\"\n",
    "else :\n",
    "    status = \"NOT\"\n",
    "print(f\"You are {status} allowed to sit in the exam\")"
   ]
  },
  {
   "cell_type": "raw",
   "metadata": {},
   "source": [
    "16) Write a program to check if a year is leap year or not.\n",
    "\n",
    "If a year is divisible by 4 then it is leap year but if the year is century year like 2000, 1900, 2100 then it must be divisible by 400."
   ]
  },
  {
   "cell_type": "code",
   "execution_count": 33,
   "metadata": {},
   "outputs": [
    {
     "name": "stdout",
     "output_type": "stream",
     "text": [
      "enter the year2021\n",
      "This is NOT a leap year\n"
     ]
    }
   ],
   "source": [
    "year = int(input(\"enter the year\"))\n",
    "ly = year % 4\n",
    "if ly == 0:\n",
    "    st = \"\"\n",
    "else :\n",
    "    st = \"NOT\"\n",
    "print(f\"This is {st} a leap year\")"
   ]
  },
  {
   "cell_type": "raw",
   "metadata": {},
   "source": [
    "17) Ask user to enter age, gender ( M or F ), marital status ( Y or N ) and then using following rules print their place of service.\n",
    "\n",
    "if employee is female, then she will work only in urban areas.\n",
    "\n",
    "if employee is a male and age is in between 20 to 40 then he may work in anywhere\n",
    "\n",
    "if employee is male and age is in between 40 t0 60 then he will work in urban areas only.\n",
    "\n",
    "And any other input of age should print \"ERROR\""
   ]
  },
  {
   "cell_type": "code",
   "execution_count": 5,
   "metadata": {},
   "outputs": [
    {
     "name": "stdout",
     "output_type": "stream",
     "text": [
      "please enter age23\n",
      "please enter your gender (M or F)m\n",
      "please enter your marital status (Y or N)n\n",
      "You can work anywhere\n"
     ]
    }
   ],
   "source": [
    "age = int(input(\"please enter age\"))\n",
    "gender = input(\"please enter your gender (M or F)\")\n",
    "gender = gender.upper()\n",
    "marst = input(\"please enter your marital status (Y or N)\")\n",
    "marst = marst.upper()\n",
    "if gender == \"F\":\n",
    "    print(\"you will work in urban area\")\n",
    "elif gender == \"M\" and age >= 20 and age <=40:\n",
    "    print(\"You can work anywhere\")\n",
    "elif gender == \"M\" and age > 40 and age <=60:\n",
    "    print(\"You can work in urban areas only\")\n",
    "else:\n",
    "    print(\"ERROR\")"
   ]
  },
  {
   "cell_type": "code",
   "execution_count": null,
   "metadata": {},
   "outputs": [],
   "source": []
  },
  {
   "cell_type": "code",
   "execution_count": null,
   "metadata": {},
   "outputs": [],
   "source": []
  }
 ],
 "metadata": {
  "kernelspec": {
   "display_name": "Python 3 (ipykernel)",
   "language": "python",
   "name": "python3"
  },
  "language_info": {
   "codemirror_mode": {
    "name": "ipython",
    "version": 3
   },
   "file_extension": ".py",
   "mimetype": "text/x-python",
   "name": "python",
   "nbconvert_exporter": "python",
   "pygments_lexer": "ipython3",
   "version": "3.9.12"
  }
 },
 "nbformat": 4,
 "nbformat_minor": 2
}
